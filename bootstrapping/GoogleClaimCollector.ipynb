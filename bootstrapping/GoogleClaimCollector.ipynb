{
 "cells": [
  {
   "cell_type": "markdown",
   "metadata": {},
   "source": [
    "# Claim Review Search API interactions"
   ]
  },
  {
   "cell_type": "code",
   "execution_count": 99,
   "metadata": {},
   "outputs": [],
   "source": [
    "import json\n",
    "import requests\n",
    "import csv"
   ]
  },
  {
   "cell_type": "code",
   "execution_count": 120,
   "metadata": {},
   "outputs": [],
   "source": [
    "request_string = \"https://factchecktools.googleapis.com/v1alpha1/claims:search\"\n",
    "sources = {\"fullfact.org\", \"factcheck.afp.com\", \"factual.afp.com\", \"bbc.com\", \"boatos.org\", \"correctiv.org\"}\n",
    "sources_with_rating = {\"bbc.com\", \"factcheck.afp.com\", \"boatos.org\", }"
   ]
  },
  {
   "cell_type": "code",
   "execution_count": 64,
   "metadata": {},
   "outputs": [],
   "source": [
    "def collectSourceClaims(publisher, query = \"\", page_size = 2):\n",
    "    params = {'pageSize': page_size, 'query': query, 'reviewPublisherSiteFilter': publisher, 'key': api_key}\n",
    "    response = requests.get(request_string, params)\n",
    "    return response.json()"
   ]
  },
  {
   "cell_type": "code",
   "execution_count": 123,
   "metadata": {},
   "outputs": [],
   "source": [
    "def processSource(publisher):\n",
    "    claims = collectSourceClaims(publisher, query = \"\", page_size = 5000)\n",
    "    file = \"/home/atagarev/workspaces/WEV/wev-model/bootstrapping/results/source_\" + publisher + \".csv\"\n",
    "    with open(file, mode='w') as loc_file:\n",
    "        writer = csv.writer(loc_file, delimiter=',', quotechar='\"', quoting=csv.QUOTE_MINIMAL)\n",
    "        writer.writerow(['', 'claimReview_claimReviewed', 'rating_ratingValue',\n",
    "                         'creativeWork_author_name', 'creativeWork_datePublished',\n",
    "                         'claimReview_author_name', 'claimReview_datePublished',\n",
    "                         'claimReview_url', 'extra_body'])\n",
    "        i = 0\n",
    "        for claim in claims['claims']:\n",
    "            claimText = claim['text']\n",
    "            claimant = claim['claimant'] if 'claimant' in claim else \"\"\n",
    "            claimDate = claim['claimDate'] if 'claimDate' in claim else \"\"\n",
    "            claimReview = claim['claimReview'][0]\n",
    "            reviewer = claimReview['publisher']['name']\n",
    "            reviewerSite = claimReview['publisher']['site']\n",
    "            reviewUrl = claimReview['url']\n",
    "            reviewText = claimReview['title']\n",
    "            if not publisher in sources_with_rating:\n",
    "                reviewText = claimReview['title'] + \"\\n\\n\" + claimReview['textualRating']\n",
    "            reviewDate = claimReview['reviewDate']\n",
    "            reviewRating = claimReview['textualRating'] if publisher in sources_with_rating else \"\"\n",
    "            reviewLang = claimReview['languageCode']\n",
    "            i += 1\n",
    "            writer.writerow([i, claimText, reviewRating, claimant, claimDate, reviewer, reviewDate, reviewUrl, reviewText])"
   ]
  },
  {
   "cell_type": "code",
   "execution_count": 124,
   "metadata": {},
   "outputs": [],
   "source": [
    "for source in sources:\n",
    "    processSource(source)"
   ]
  }
 ],
 "metadata": {
  "kernelspec": {
   "display_name": "Python 3",
   "language": "python",
   "name": "python3"
  },
  "language_info": {
   "codemirror_mode": {
    "name": "ipython",
    "version": 3
   },
   "file_extension": ".py",
   "mimetype": "text/x-python",
   "name": "python",
   "nbconvert_exporter": "python",
   "pygments_lexer": "ipython3",
   "version": "3.7.3"
  }
 },
 "nbformat": 4,
 "nbformat_minor": 2
}
